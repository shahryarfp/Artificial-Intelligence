{
 "cells": [
  {
   "cell_type": "markdown",
   "metadata": {},
   "source": [
    "# <center> AI - CA0<br>Name: Shahryar Namdari<br>ID: 810098043<br>24/2/2022<center>"
   ]
  },
  {
   "cell_type": "markdown",
   "metadata": {},
   "source": [
    "## Question 1"
   ]
  },
  {
   "cell_type": "code",
   "execution_count": 1,
   "metadata": {},
   "outputs": [],
   "source": [
    "import pandas as pd\n",
    "import timeit\n",
    "import matplotlib.pyplot as plt\n",
    "from scipy.stats import norm\n",
    "from shapely.geometry import Point, LineString\n",
    "import numpy as np\n",
    "\n",
    "my_file = pd.read_csv('D:\\\\term8\\\\AI\\\\CA0\\\\bank_term_deposit.csv')"
   ]
  },
  {
   "cell_type": "code",
   "execution_count": 2,
   "metadata": {},
   "outputs": [
    {
     "data": {
      "text/html": [
       "<div>\n",
       "<style scoped>\n",
       "    .dataframe tbody tr th:only-of-type {\n",
       "        vertical-align: middle;\n",
       "    }\n",
       "\n",
       "    .dataframe tbody tr th {\n",
       "        vertical-align: top;\n",
       "    }\n",
       "\n",
       "    .dataframe thead th {\n",
       "        text-align: right;\n",
       "    }\n",
       "</style>\n",
       "<table border=\"1\" class=\"dataframe\">\n",
       "  <thead>\n",
       "    <tr style=\"text-align: right;\">\n",
       "      <th></th>\n",
       "      <th>age</th>\n",
       "      <th>job</th>\n",
       "      <th>marital</th>\n",
       "      <th>education</th>\n",
       "      <th>balance</th>\n",
       "      <th>housing</th>\n",
       "      <th>loan</th>\n",
       "      <th>duration</th>\n",
       "      <th>campaign</th>\n",
       "      <th>pdays</th>\n",
       "      <th>poutcome</th>\n",
       "      <th>y</th>\n",
       "    </tr>\n",
       "  </thead>\n",
       "  <tbody>\n",
       "    <tr>\n",
       "      <td>4518</td>\n",
       "      <td>57.0</td>\n",
       "      <td>technician</td>\n",
       "      <td>married</td>\n",
       "      <td>secondary</td>\n",
       "      <td>295.0</td>\n",
       "      <td>no</td>\n",
       "      <td>no</td>\n",
       "      <td>151.0</td>\n",
       "      <td>11</td>\n",
       "      <td>-1</td>\n",
       "      <td>unknown</td>\n",
       "      <td>no</td>\n",
       "    </tr>\n",
       "    <tr>\n",
       "      <td>4519</td>\n",
       "      <td>28.0</td>\n",
       "      <td>blue-collar</td>\n",
       "      <td>married</td>\n",
       "      <td>secondary</td>\n",
       "      <td>1137.0</td>\n",
       "      <td>no</td>\n",
       "      <td>no</td>\n",
       "      <td>129.0</td>\n",
       "      <td>4</td>\n",
       "      <td>211</td>\n",
       "      <td>other</td>\n",
       "      <td>no</td>\n",
       "    </tr>\n",
       "    <tr>\n",
       "      <td>4520</td>\n",
       "      <td>44.0</td>\n",
       "      <td>entrepreneur</td>\n",
       "      <td>single</td>\n",
       "      <td>tertiary</td>\n",
       "      <td>1136.0</td>\n",
       "      <td>yes</td>\n",
       "      <td>yes</td>\n",
       "      <td>345.0</td>\n",
       "      <td>2</td>\n",
       "      <td>249</td>\n",
       "      <td>other</td>\n",
       "      <td>no</td>\n",
       "    </tr>\n",
       "  </tbody>\n",
       "</table>\n",
       "</div>"
      ],
      "text/plain": [
       "       age           job  marital  education  balance housing loan  duration  \\\n",
       "4518  57.0    technician  married  secondary    295.0      no   no     151.0   \n",
       "4519  28.0   blue-collar  married  secondary   1137.0      no   no     129.0   \n",
       "4520  44.0  entrepreneur   single   tertiary   1136.0     yes  yes     345.0   \n",
       "\n",
       "      campaign  pdays poutcome   y  \n",
       "4518        11     -1  unknown  no  \n",
       "4519         4    211    other  no  \n",
       "4520         2    249    other  no  "
      ]
     },
     "execution_count": 2,
     "metadata": {},
     "output_type": "execute_result"
    }
   ],
   "source": [
    "#The tail() function is used to return the last n rows\n",
    "# n = 3\n",
    "my_file.tail(3)"
   ]
  },
  {
   "cell_type": "code",
   "execution_count": 3,
   "metadata": {},
   "outputs": [
    {
     "data": {
      "text/html": [
       "<div>\n",
       "<style scoped>\n",
       "    .dataframe tbody tr th:only-of-type {\n",
       "        vertical-align: middle;\n",
       "    }\n",
       "\n",
       "    .dataframe tbody tr th {\n",
       "        vertical-align: top;\n",
       "    }\n",
       "\n",
       "    .dataframe thead th {\n",
       "        text-align: right;\n",
       "    }\n",
       "</style>\n",
       "<table border=\"1\" class=\"dataframe\">\n",
       "  <thead>\n",
       "    <tr style=\"text-align: right;\">\n",
       "      <th></th>\n",
       "      <th>age</th>\n",
       "      <th>job</th>\n",
       "      <th>marital</th>\n",
       "      <th>education</th>\n",
       "      <th>balance</th>\n",
       "      <th>housing</th>\n",
       "      <th>loan</th>\n",
       "      <th>duration</th>\n",
       "      <th>campaign</th>\n",
       "      <th>pdays</th>\n",
       "      <th>poutcome</th>\n",
       "      <th>y</th>\n",
       "    </tr>\n",
       "  </thead>\n",
       "  <tbody>\n",
       "    <tr>\n",
       "      <td>0</td>\n",
       "      <td>30.0</td>\n",
       "      <td>unemployed</td>\n",
       "      <td>married</td>\n",
       "      <td>primary</td>\n",
       "      <td>1787.0</td>\n",
       "      <td>no</td>\n",
       "      <td>no</td>\n",
       "      <td>79.0</td>\n",
       "      <td>1</td>\n",
       "      <td>-1</td>\n",
       "      <td>unknown</td>\n",
       "      <td>no</td>\n",
       "    </tr>\n",
       "    <tr>\n",
       "      <td>1</td>\n",
       "      <td>33.0</td>\n",
       "      <td>services</td>\n",
       "      <td>married</td>\n",
       "      <td>secondary</td>\n",
       "      <td>4789.0</td>\n",
       "      <td>yes</td>\n",
       "      <td>yes</td>\n",
       "      <td>NaN</td>\n",
       "      <td>1</td>\n",
       "      <td>339</td>\n",
       "      <td>failure</td>\n",
       "      <td>no</td>\n",
       "    </tr>\n",
       "  </tbody>\n",
       "</table>\n",
       "</div>"
      ],
      "text/plain": [
       "    age         job  marital  education  balance housing loan  duration  \\\n",
       "0  30.0  unemployed  married    primary   1787.0      no   no      79.0   \n",
       "1  33.0    services  married  secondary   4789.0     yes  yes       NaN   \n",
       "\n",
       "   campaign  pdays poutcome   y  \n",
       "0         1     -1  unknown  no  \n",
       "1         1    339  failure  no  "
      ]
     },
     "execution_count": 3,
     "metadata": {},
     "output_type": "execute_result"
    }
   ],
   "source": [
    "#The head() function is used to return the first n rows\n",
    "# n = 2\n",
    "my_file.head(2)"
   ]
  },
  {
   "cell_type": "code",
   "execution_count": 4,
   "metadata": {},
   "outputs": [],
   "source": [
    "#The describe() method is used for calculating some statistical data like percentile,\n",
    "#mean and std of the numerical values of the Series or DataFrame\n",
    "#count - The number of not-empty values.\n",
    "#mean - The average (mean) value.\n",
    "#std - The standard deviation.\n",
    "#min - the minimum value.\n",
    "#25% - The 25% percentile*.\n",
    "#50% - The 50% percentile*.\n",
    "#75% - The 75% percentile*.\n",
    "#max - the maximum value.\n",
    "my_file.describe();"
   ]
  },
  {
   "cell_type": "code",
   "execution_count": 5,
   "metadata": {},
   "outputs": [
    {
     "name": "stdout",
     "output_type": "stream",
     "text": [
      "<class 'pandas.core.frame.DataFrame'>\n",
      "RangeIndex: 4521 entries, 0 to 4520\n",
      "Data columns (total 12 columns):\n",
      "age          3984 non-null float64\n",
      "job          4521 non-null object\n",
      "marital      4401 non-null object\n",
      "education    4521 non-null object\n",
      "balance      4164 non-null float64\n",
      "housing      4302 non-null object\n",
      "loan         4521 non-null object\n",
      "duration     4388 non-null float64\n",
      "campaign     4521 non-null int64\n",
      "pdays        4521 non-null int64\n",
      "poutcome     4521 non-null object\n",
      "y            4087 non-null object\n",
      "dtypes: float64(3), int64(2), object(7)\n",
      "memory usage: 424.0+ KB\n"
     ]
    }
   ],
   "source": [
    "#The info() function is used to print a concise summary of a DataFrame.\n",
    "#This method prints information about a DataFrame including the index dtype \n",
    "#and column dtypes, non-null values and memory usage\n",
    "my_file.info();"
   ]
  },
  {
   "cell_type": "markdown",
   "metadata": {},
   "source": [
    "## Question 2"
   ]
  },
  {
   "cell_type": "code",
   "execution_count": 6,
   "metadata": {},
   "outputs": [
    {
     "data": {
      "text/html": [
       "<div>\n",
       "<style scoped>\n",
       "    .dataframe tbody tr th:only-of-type {\n",
       "        vertical-align: middle;\n",
       "    }\n",
       "\n",
       "    .dataframe tbody tr th {\n",
       "        vertical-align: top;\n",
       "    }\n",
       "\n",
       "    .dataframe thead th {\n",
       "        text-align: right;\n",
       "    }\n",
       "</style>\n",
       "<table border=\"1\" class=\"dataframe\">\n",
       "  <thead>\n",
       "    <tr style=\"text-align: right;\">\n",
       "      <th></th>\n",
       "      <th>age</th>\n",
       "      <th>job</th>\n",
       "      <th>marital</th>\n",
       "      <th>education</th>\n",
       "      <th>balance</th>\n",
       "      <th>housing</th>\n",
       "      <th>loan</th>\n",
       "      <th>duration</th>\n",
       "      <th>campaign</th>\n",
       "      <th>pdays</th>\n",
       "      <th>poutcome</th>\n",
       "      <th>y</th>\n",
       "    </tr>\n",
       "  </thead>\n",
       "  <tbody>\n",
       "    <tr>\n",
       "      <td>0</td>\n",
       "      <td>30.0</td>\n",
       "      <td>1</td>\n",
       "      <td>1.0</td>\n",
       "      <td>1</td>\n",
       "      <td>1787.0</td>\n",
       "      <td>2.0</td>\n",
       "      <td>2</td>\n",
       "      <td>79.0</td>\n",
       "      <td>1</td>\n",
       "      <td>-1</td>\n",
       "      <td>1</td>\n",
       "      <td>2.0</td>\n",
       "    </tr>\n",
       "    <tr>\n",
       "      <td>1</td>\n",
       "      <td>33.0</td>\n",
       "      <td>2</td>\n",
       "      <td>1.0</td>\n",
       "      <td>2</td>\n",
       "      <td>4789.0</td>\n",
       "      <td>1.0</td>\n",
       "      <td>1</td>\n",
       "      <td>NaN</td>\n",
       "      <td>1</td>\n",
       "      <td>339</td>\n",
       "      <td>2</td>\n",
       "      <td>2.0</td>\n",
       "    </tr>\n",
       "    <tr>\n",
       "      <td>2</td>\n",
       "      <td>NaN</td>\n",
       "      <td>3</td>\n",
       "      <td>2.0</td>\n",
       "      <td>3</td>\n",
       "      <td>135.0</td>\n",
       "      <td>1.0</td>\n",
       "      <td>2</td>\n",
       "      <td>185.0</td>\n",
       "      <td>1</td>\n",
       "      <td>330</td>\n",
       "      <td>2</td>\n",
       "      <td>2.0</td>\n",
       "    </tr>\n",
       "    <tr>\n",
       "      <td>3</td>\n",
       "      <td>30.0</td>\n",
       "      <td>3</td>\n",
       "      <td>1.0</td>\n",
       "      <td>3</td>\n",
       "      <td>1476.0</td>\n",
       "      <td>1.0</td>\n",
       "      <td>1</td>\n",
       "      <td>199.0</td>\n",
       "      <td>4</td>\n",
       "      <td>-1</td>\n",
       "      <td>1</td>\n",
       "      <td>2.0</td>\n",
       "    </tr>\n",
       "    <tr>\n",
       "      <td>4</td>\n",
       "      <td>59.0</td>\n",
       "      <td>4</td>\n",
       "      <td>1.0</td>\n",
       "      <td>2</td>\n",
       "      <td>NaN</td>\n",
       "      <td>1.0</td>\n",
       "      <td>2</td>\n",
       "      <td>226.0</td>\n",
       "      <td>1</td>\n",
       "      <td>-1</td>\n",
       "      <td>1</td>\n",
       "      <td>2.0</td>\n",
       "    </tr>\n",
       "    <tr>\n",
       "      <td>...</td>\n",
       "      <td>...</td>\n",
       "      <td>...</td>\n",
       "      <td>...</td>\n",
       "      <td>...</td>\n",
       "      <td>...</td>\n",
       "      <td>...</td>\n",
       "      <td>...</td>\n",
       "      <td>...</td>\n",
       "      <td>...</td>\n",
       "      <td>...</td>\n",
       "      <td>...</td>\n",
       "      <td>...</td>\n",
       "    </tr>\n",
       "    <tr>\n",
       "      <td>4516</td>\n",
       "      <td>33.0</td>\n",
       "      <td>2</td>\n",
       "      <td>1.0</td>\n",
       "      <td>2</td>\n",
       "      <td>-333.0</td>\n",
       "      <td>1.0</td>\n",
       "      <td>2</td>\n",
       "      <td>329.0</td>\n",
       "      <td>5</td>\n",
       "      <td>-1</td>\n",
       "      <td>1</td>\n",
       "      <td>2.0</td>\n",
       "    </tr>\n",
       "    <tr>\n",
       "      <td>4517</td>\n",
       "      <td>57.0</td>\n",
       "      <td>5</td>\n",
       "      <td>1.0</td>\n",
       "      <td>3</td>\n",
       "      <td>-3313.0</td>\n",
       "      <td>1.0</td>\n",
       "      <td>1</td>\n",
       "      <td>153.0</td>\n",
       "      <td>1</td>\n",
       "      <td>-1</td>\n",
       "      <td>1</td>\n",
       "      <td>2.0</td>\n",
       "    </tr>\n",
       "    <tr>\n",
       "      <td>4518</td>\n",
       "      <td>57.0</td>\n",
       "      <td>6</td>\n",
       "      <td>1.0</td>\n",
       "      <td>2</td>\n",
       "      <td>295.0</td>\n",
       "      <td>2.0</td>\n",
       "      <td>2</td>\n",
       "      <td>151.0</td>\n",
       "      <td>11</td>\n",
       "      <td>-1</td>\n",
       "      <td>1</td>\n",
       "      <td>2.0</td>\n",
       "    </tr>\n",
       "    <tr>\n",
       "      <td>4519</td>\n",
       "      <td>28.0</td>\n",
       "      <td>4</td>\n",
       "      <td>1.0</td>\n",
       "      <td>2</td>\n",
       "      <td>1137.0</td>\n",
       "      <td>2.0</td>\n",
       "      <td>2</td>\n",
       "      <td>129.0</td>\n",
       "      <td>4</td>\n",
       "      <td>211</td>\n",
       "      <td>3</td>\n",
       "      <td>2.0</td>\n",
       "    </tr>\n",
       "    <tr>\n",
       "      <td>4520</td>\n",
       "      <td>44.0</td>\n",
       "      <td>7</td>\n",
       "      <td>2.0</td>\n",
       "      <td>3</td>\n",
       "      <td>1136.0</td>\n",
       "      <td>1.0</td>\n",
       "      <td>1</td>\n",
       "      <td>345.0</td>\n",
       "      <td>2</td>\n",
       "      <td>249</td>\n",
       "      <td>3</td>\n",
       "      <td>2.0</td>\n",
       "    </tr>\n",
       "  </tbody>\n",
       "</table>\n",
       "<p>4521 rows × 12 columns</p>\n",
       "</div>"
      ],
      "text/plain": [
       "       age  job  marital  education  balance  housing  loan  duration  \\\n",
       "0     30.0    1      1.0          1   1787.0      2.0     2      79.0   \n",
       "1     33.0    2      1.0          2   4789.0      1.0     1       NaN   \n",
       "2      NaN    3      2.0          3    135.0      1.0     2     185.0   \n",
       "3     30.0    3      1.0          3   1476.0      1.0     1     199.0   \n",
       "4     59.0    4      1.0          2      NaN      1.0     2     226.0   \n",
       "...    ...  ...      ...        ...      ...      ...   ...       ...   \n",
       "4516  33.0    2      1.0          2   -333.0      1.0     2     329.0   \n",
       "4517  57.0    5      1.0          3  -3313.0      1.0     1     153.0   \n",
       "4518  57.0    6      1.0          2    295.0      2.0     2     151.0   \n",
       "4519  28.0    4      1.0          2   1137.0      2.0     2     129.0   \n",
       "4520  44.0    7      2.0          3   1136.0      1.0     1     345.0   \n",
       "\n",
       "      campaign  pdays  poutcome    y  \n",
       "0            1     -1         1  2.0  \n",
       "1            1    339         2  2.0  \n",
       "2            1    330         2  2.0  \n",
       "3            4     -1         1  2.0  \n",
       "4            1     -1         1  2.0  \n",
       "...        ...    ...       ...  ...  \n",
       "4516         5     -1         1  2.0  \n",
       "4517         1     -1         1  2.0  \n",
       "4518        11     -1         1  2.0  \n",
       "4519         4    211         3  2.0  \n",
       "4520         2    249         3  2.0  \n",
       "\n",
       "[4521 rows x 12 columns]"
      ]
     },
     "execution_count": 6,
     "metadata": {},
     "output_type": "execute_result"
    }
   ],
   "source": [
    "#from the info method it is obvious \n",
    "#that we have five Numerical and 7 Categorical column\n",
    "#numerical: age,balance, duration, campaign, pdays\n",
    "#categorical: job, marital, education, housing, loan, poutcome, y\n",
    "\n",
    "#converting categorical to numerical\n",
    "job = {\"unemployed\":1, \"services\":2, \"management\":3, \"blue-collar\":4, \"self-employed\":5, \"technician\":6,\\\n",
    "       \"entrepreneur\":7, \"admin.\":8, \"student\":9, \"housemaid\":10, \"retired\":11, \"unknown\":11}\n",
    "my_file[\"job\"] = my_file[\"job\"].map(job)\n",
    "\n",
    "marital = {\"married\":1, \"single\":2, \"divorced\":3}\n",
    "my_file[\"marital\"] = my_file[\"marital\"].map(marital)\n",
    "\n",
    "education = {\"primary\":1, \"secondary\":2, \"tertiary\":3, \"unknown\":4}\n",
    "my_file[\"education\"] = my_file[\"education\"].map(education)\n",
    "\n",
    "housing_loan_y = {\"yes\":1, \"no\":2}\n",
    "my_file[\"housing\"] = my_file[\"housing\"].map(housing_loan_y)\n",
    "my_file[\"loan\"] = my_file[\"loan\"].map(housing_loan_y)\n",
    "my_file[\"y\"] = my_file[\"y\"].map(housing_loan_y)\n",
    "\n",
    "poutcome = {\"unknown\":1, \"failure\":2, \"other\":3, \"success\":4}\n",
    "my_file[\"poutcome\"] = my_file[\"poutcome\"].map(poutcome)\n",
    "\n",
    "#another way to do this\n",
    "# my_file.job = my_file.job.astype(\"category\").cat.codes\n",
    "# my_file.marital = my_file.marital.astype(\"category\").cat.codes\n",
    "# my_file.education = my_file.education.astype(\"category\").cat.codes\n",
    "# my_file.housing = my_file.housing.astype(\"category\").cat.codes\n",
    "# my_file.loan = my_file.loan.astype(\"category\").cat.codes\n",
    "# my_file.poutcome = my_file.poutcome.astype(\"category\").cat.codes\n",
    "#my_file.y = my_file.y.astype(\"category\").cat.codes # 1=No and 2=yes\n",
    "\n",
    "my_file"
   ]
  },
  {
   "cell_type": "markdown",
   "metadata": {},
   "source": [
    "## Question 3"
   ]
  },
  {
   "cell_type": "code",
   "execution_count": 7,
   "metadata": {},
   "outputs": [
    {
     "data": {
      "text/plain": [
       "age          537\n",
       "job            0\n",
       "marital      120\n",
       "education      0\n",
       "balance      357\n",
       "housing      219\n",
       "loan           0\n",
       "duration     133\n",
       "campaign       0\n",
       "pdays          0\n",
       "poutcome       0\n",
       "y            434\n",
       "dtype: int64"
      ]
     },
     "execution_count": 7,
     "metadata": {},
     "output_type": "execute_result"
    }
   ],
   "source": [
    "#finding num of rows that has NaN value for each column\n",
    "my_file.isna().sum()"
   ]
  },
  {
   "cell_type": "code",
   "execution_count": 8,
   "metadata": {},
   "outputs": [],
   "source": [
    "#now we should put mean and mode value of each column in NaN values of that column except y column\n",
    "#mean for numerical and mode for categorical\n",
    "#numerical: age,balance, duration, campaign, pdays\n",
    "#categorical: job, marital, education, housing, loan, poutcome, y\n",
    "\n",
    "my_file[\"age\"].fillna((my_file[\"age\"].mean()), inplace=True)\n",
    "my_file[\"balance\"].fillna((my_file[\"balance\"].mean()), inplace=True)\n",
    "my_file[\"duration\"].fillna((my_file[\"duration\"].mean()), inplace=True)\n",
    "my_file[\"campaign\"].fillna((my_file[\"campaign\"].mean()), inplace=True)\n",
    "my_file[\"pdays\"].fillna((my_file[\"pdays\"].mean()), inplace=True)\n",
    "\n",
    "my_file[\"job\"].fillna((my_file[\"job\"].mode()), inplace=True)\n",
    "my_file[\"marital\"].fillna((my_file[\"marital\"].mode()), inplace=True)\n",
    "my_file[\"education\"].fillna((my_file[\"education\"].mode()), inplace=True)\n",
    "my_file[\"housing\"].fillna((my_file[\"housing\"].mode()), inplace=True)\n",
    "my_file[\"loan\"].fillna((my_file[\"loan\"].mode()), inplace=True)\n",
    "my_file[\"poutcome\"].fillna((my_file[\"poutcome\"].mode()), inplace=True)"
   ]
  },
  {
   "cell_type": "markdown",
   "metadata": {},
   "source": [
    "Advantages and Disadvantages of filling NaN with mean value:"
   ]
  },
  {
   "cell_type": "markdown",
   "metadata": {},
   "source": [
    "Advantages: it is almost ok to replace empty values with mean value :) and it is so easy to do that. although I replaced NaN data for categorical columns with mode value. It does make more sense."
   ]
  },
  {
   "cell_type": "markdown",
   "metadata": {},
   "source": [
    "Disadvantages: it is not gonna consider other features of that guy. Also it reduces the variance."
   ]
  },
  {
   "cell_type": "code",
   "execution_count": 9,
   "metadata": {},
   "outputs": [
    {
     "data": {
      "text/html": [
       "<div>\n",
       "<style scoped>\n",
       "    .dataframe tbody tr th:only-of-type {\n",
       "        vertical-align: middle;\n",
       "    }\n",
       "\n",
       "    .dataframe tbody tr th {\n",
       "        vertical-align: top;\n",
       "    }\n",
       "\n",
       "    .dataframe thead th {\n",
       "        text-align: right;\n",
       "    }\n",
       "</style>\n",
       "<table border=\"1\" class=\"dataframe\">\n",
       "  <thead>\n",
       "    <tr style=\"text-align: right;\">\n",
       "      <th></th>\n",
       "      <th>age</th>\n",
       "      <th>job</th>\n",
       "      <th>marital</th>\n",
       "      <th>education</th>\n",
       "      <th>balance</th>\n",
       "      <th>housing</th>\n",
       "      <th>loan</th>\n",
       "      <th>duration</th>\n",
       "      <th>campaign</th>\n",
       "      <th>pdays</th>\n",
       "      <th>poutcome</th>\n",
       "      <th>y</th>\n",
       "    </tr>\n",
       "  </thead>\n",
       "  <tbody>\n",
       "    <tr>\n",
       "      <td>0</td>\n",
       "      <td>30.00000</td>\n",
       "      <td>1</td>\n",
       "      <td>1.0</td>\n",
       "      <td>1</td>\n",
       "      <td>1787.00000</td>\n",
       "      <td>2.0</td>\n",
       "      <td>2</td>\n",
       "      <td>79.00000</td>\n",
       "      <td>1</td>\n",
       "      <td>-1</td>\n",
       "      <td>1</td>\n",
       "      <td>2.0</td>\n",
       "    </tr>\n",
       "    <tr>\n",
       "      <td>1</td>\n",
       "      <td>33.00000</td>\n",
       "      <td>2</td>\n",
       "      <td>1.0</td>\n",
       "      <td>2</td>\n",
       "      <td>4789.00000</td>\n",
       "      <td>1.0</td>\n",
       "      <td>1</td>\n",
       "      <td>264.72402</td>\n",
       "      <td>1</td>\n",
       "      <td>339</td>\n",
       "      <td>2</td>\n",
       "      <td>2.0</td>\n",
       "    </tr>\n",
       "    <tr>\n",
       "      <td>2</td>\n",
       "      <td>41.61747</td>\n",
       "      <td>3</td>\n",
       "      <td>2.0</td>\n",
       "      <td>3</td>\n",
       "      <td>135.00000</td>\n",
       "      <td>1.0</td>\n",
       "      <td>2</td>\n",
       "      <td>185.00000</td>\n",
       "      <td>1</td>\n",
       "      <td>330</td>\n",
       "      <td>2</td>\n",
       "      <td>2.0</td>\n",
       "    </tr>\n",
       "    <tr>\n",
       "      <td>3</td>\n",
       "      <td>30.00000</td>\n",
       "      <td>3</td>\n",
       "      <td>1.0</td>\n",
       "      <td>3</td>\n",
       "      <td>1476.00000</td>\n",
       "      <td>1.0</td>\n",
       "      <td>1</td>\n",
       "      <td>199.00000</td>\n",
       "      <td>4</td>\n",
       "      <td>-1</td>\n",
       "      <td>1</td>\n",
       "      <td>2.0</td>\n",
       "    </tr>\n",
       "    <tr>\n",
       "      <td>4</td>\n",
       "      <td>59.00000</td>\n",
       "      <td>4</td>\n",
       "      <td>1.0</td>\n",
       "      <td>2</td>\n",
       "      <td>1136.75024</td>\n",
       "      <td>1.0</td>\n",
       "      <td>2</td>\n",
       "      <td>226.00000</td>\n",
       "      <td>1</td>\n",
       "      <td>-1</td>\n",
       "      <td>1</td>\n",
       "      <td>2.0</td>\n",
       "    </tr>\n",
       "    <tr>\n",
       "      <td>...</td>\n",
       "      <td>...</td>\n",
       "      <td>...</td>\n",
       "      <td>...</td>\n",
       "      <td>...</td>\n",
       "      <td>...</td>\n",
       "      <td>...</td>\n",
       "      <td>...</td>\n",
       "      <td>...</td>\n",
       "      <td>...</td>\n",
       "      <td>...</td>\n",
       "      <td>...</td>\n",
       "      <td>...</td>\n",
       "    </tr>\n",
       "    <tr>\n",
       "      <td>4516</td>\n",
       "      <td>33.00000</td>\n",
       "      <td>2</td>\n",
       "      <td>1.0</td>\n",
       "      <td>2</td>\n",
       "      <td>-333.00000</td>\n",
       "      <td>1.0</td>\n",
       "      <td>2</td>\n",
       "      <td>329.00000</td>\n",
       "      <td>5</td>\n",
       "      <td>-1</td>\n",
       "      <td>1</td>\n",
       "      <td>2.0</td>\n",
       "    </tr>\n",
       "    <tr>\n",
       "      <td>4517</td>\n",
       "      <td>57.00000</td>\n",
       "      <td>5</td>\n",
       "      <td>1.0</td>\n",
       "      <td>3</td>\n",
       "      <td>-3313.00000</td>\n",
       "      <td>1.0</td>\n",
       "      <td>1</td>\n",
       "      <td>153.00000</td>\n",
       "      <td>1</td>\n",
       "      <td>-1</td>\n",
       "      <td>1</td>\n",
       "      <td>2.0</td>\n",
       "    </tr>\n",
       "    <tr>\n",
       "      <td>4518</td>\n",
       "      <td>57.00000</td>\n",
       "      <td>6</td>\n",
       "      <td>1.0</td>\n",
       "      <td>2</td>\n",
       "      <td>295.00000</td>\n",
       "      <td>2.0</td>\n",
       "      <td>2</td>\n",
       "      <td>151.00000</td>\n",
       "      <td>11</td>\n",
       "      <td>-1</td>\n",
       "      <td>1</td>\n",
       "      <td>2.0</td>\n",
       "    </tr>\n",
       "    <tr>\n",
       "      <td>4519</td>\n",
       "      <td>28.00000</td>\n",
       "      <td>4</td>\n",
       "      <td>1.0</td>\n",
       "      <td>2</td>\n",
       "      <td>1137.00000</td>\n",
       "      <td>2.0</td>\n",
       "      <td>2</td>\n",
       "      <td>129.00000</td>\n",
       "      <td>4</td>\n",
       "      <td>211</td>\n",
       "      <td>3</td>\n",
       "      <td>2.0</td>\n",
       "    </tr>\n",
       "    <tr>\n",
       "      <td>4520</td>\n",
       "      <td>44.00000</td>\n",
       "      <td>7</td>\n",
       "      <td>2.0</td>\n",
       "      <td>3</td>\n",
       "      <td>1136.00000</td>\n",
       "      <td>1.0</td>\n",
       "      <td>1</td>\n",
       "      <td>345.00000</td>\n",
       "      <td>2</td>\n",
       "      <td>249</td>\n",
       "      <td>3</td>\n",
       "      <td>2.0</td>\n",
       "    </tr>\n",
       "  </tbody>\n",
       "</table>\n",
       "<p>4087 rows × 12 columns</p>\n",
       "</div>"
      ],
      "text/plain": [
       "           age  job  marital  education     balance  housing  loan   duration  \\\n",
       "0     30.00000    1      1.0          1  1787.00000      2.0     2   79.00000   \n",
       "1     33.00000    2      1.0          2  4789.00000      1.0     1  264.72402   \n",
       "2     41.61747    3      2.0          3   135.00000      1.0     2  185.00000   \n",
       "3     30.00000    3      1.0          3  1476.00000      1.0     1  199.00000   \n",
       "4     59.00000    4      1.0          2  1136.75024      1.0     2  226.00000   \n",
       "...        ...  ...      ...        ...         ...      ...   ...        ...   \n",
       "4516  33.00000    2      1.0          2  -333.00000      1.0     2  329.00000   \n",
       "4517  57.00000    5      1.0          3 -3313.00000      1.0     1  153.00000   \n",
       "4518  57.00000    6      1.0          2   295.00000      2.0     2  151.00000   \n",
       "4519  28.00000    4      1.0          2  1137.00000      2.0     2  129.00000   \n",
       "4520  44.00000    7      2.0          3  1136.00000      1.0     1  345.00000   \n",
       "\n",
       "      campaign  pdays  poutcome    y  \n",
       "0            1     -1         1  2.0  \n",
       "1            1    339         2  2.0  \n",
       "2            1    330         2  2.0  \n",
       "3            4     -1         1  2.0  \n",
       "4            1     -1         1  2.0  \n",
       "...        ...    ...       ...  ...  \n",
       "4516         5     -1         1  2.0  \n",
       "4517         1     -1         1  2.0  \n",
       "4518        11     -1         1  2.0  \n",
       "4519         4    211         3  2.0  \n",
       "4520         2    249         3  2.0  \n",
       "\n",
       "[4087 rows x 12 columns]"
      ]
     },
     "execution_count": 9,
     "metadata": {},
     "output_type": "execute_result"
    }
   ],
   "source": [
    "new_df = my_file[my_file[\"y\"].isnull()]\n",
    "my_file.dropna(subset = [\"y\"], inplace=True)\n",
    "my_file # we are gonna use this data frame from now on"
   ]
  },
  {
   "cell_type": "markdown",
   "metadata": {},
   "source": [
    "## Question 4"
   ]
  },
  {
   "cell_type": "code",
   "execution_count": 10,
   "metadata": {},
   "outputs": [
    {
     "name": "stdout",
     "output_type": "stream",
     "text": [
      "housing(yes):  2188.0\n",
      "housing(no):  1698.0\n"
     ]
    }
   ],
   "source": [
    "X = my_file[\"housing\"].where(my_file[\"housing\"] == 1).sum()\n",
    "print(\"housing(yes): \", X)\n",
    "X = my_file[\"housing\"].where(my_file[\"housing\"] == 2).sum()/2\n",
    "print(\"housing(no): \", X)"
   ]
  },
  {
   "cell_type": "code",
   "execution_count": 11,
   "metadata": {},
   "outputs": [
    {
     "name": "stdout",
     "output_type": "stream",
     "text": [
      "y(yes):  464.0\n",
      "y(no):  3623.0\n"
     ]
    }
   ],
   "source": [
    "X = my_file[\"y\"].where(my_file[\"y\"] == 1).sum()\n",
    "print(\"y(yes): \", X)\n",
    "X = my_file[\"y\"].where(my_file[\"y\"] == 2).sum()/2\n",
    "print(\"y(no): \", X)"
   ]
  },
  {
   "cell_type": "markdown",
   "metadata": {},
   "source": [
    "## Question 5"
   ]
  },
  {
   "cell_type": "code",
   "execution_count": 12,
   "metadata": {},
   "outputs": [
    {
     "name": "stdout",
     "output_type": "stream",
     "text": [
      "14\n"
     ]
    }
   ],
   "source": [
    "X = my_file[(my_file[\"age\"] > 35) & (my_file[\"marital\"] == 2) & (my_file[\"poutcome\"] == 4)].count()\n",
    "print(X[0])"
   ]
  },
  {
   "cell_type": "markdown",
   "metadata": {},
   "source": [
    "## Question 6"
   ]
  },
  {
   "cell_type": "code",
   "execution_count": 13,
   "metadata": {},
   "outputs": [
    {
     "name": "stdout",
     "output_type": "stream",
     "text": [
      "ans:  950.7017237980879\n",
      "time:  8.698299999999826 ms\n"
     ]
    }
   ],
   "source": [
    "start1 = timeit.timeit()\n",
    "X = my_file[my_file[\"education\"] == 2]\n",
    "print(\"ans: \", X[\"balance\"].mean())\n",
    "end1 = timeit.timeit()\n",
    "print(\"time: \", abs(end1 - start1)*1000,\"ms\")"
   ]
  },
  {
   "cell_type": "markdown",
   "metadata": {},
   "source": [
    "## Question 7"
   ]
  },
  {
   "cell_type": "code",
   "execution_count": 14,
   "metadata": {},
   "outputs": [
    {
     "name": "stdout",
     "output_type": "stream",
     "text": [
      "ans:  950.7017237980879\n",
      "time:  12.498799999999477 ms\n"
     ]
    }
   ],
   "source": [
    "start2 = timeit.timeit()\n",
    "count = 0\n",
    "sum = 0\n",
    "for index, row in my_file.iterrows():\n",
    "    if row[\"education\"] == 2:\n",
    "        count += 1\n",
    "        sum += row[\"balance\"]\n",
    "print(\"ans: \", sum/count)\n",
    "end2 = timeit.timeit()\n",
    "print(\"time: \", abs(end2 - start2)*1000,\"ms\")"
   ]
  },
  {
   "cell_type": "markdown",
   "metadata": {},
   "source": [
    "It is clear that solving with Vectorization is much more faster than solving with For Loop"
   ]
  },
  {
   "cell_type": "markdown",
   "metadata": {},
   "source": [
    "## Question 8"
   ]
  },
  {
   "cell_type": "code",
   "execution_count": 15,
   "metadata": {},
   "outputs": [
    {
     "name": "stdout",
     "output_type": "stream",
     "text": [
      "age: \n"
     ]
    },
    {
     "data": {
      "image/png": "[encoded data removed]",
      "text/plain": [
       "<Figure size 432x288 with 1 Axes>"
      ]
     },
     "metadata": {
      "needs_background": "light"
     },
     "output_type": "display_data"
    },
    {
     "name": "stdout",
     "output_type": "stream",
     "text": [
      "job: \n"
     ]
    },
    {
     "data": {
      "image/png": "[encoded data removed]",
      "text/plain": [
       "<Figure size 432x288 with 1 Axes>"
      ]
     },
     "metadata": {
      "needs_background": "light"
     },
     "output_type": "display_data"
    },
    {
     "name": "stdout",
     "output_type": "stream",
     "text": [
      "marital: \n"
     ]
    },
    {
     "name": "stderr",
     "output_type": "stream",
     "text": [
      "C:\\Users\\BRayaneh\\Anaconda3\\lib\\site-packages\\numpy\\lib\\histograms.py:824: RuntimeWarning: invalid value encountered in greater_equal\n",
      "  keep = (tmp_a >= first_edge)\n",
      "C:\\Users\\BRayaneh\\Anaconda3\\lib\\site-packages\\numpy\\lib\\histograms.py:825: RuntimeWarning: invalid value encountered in less_equal\n",
      "  keep &= (tmp_a <= last_edge)\n"
     ]
    },
    {
     "data": {
      "image/png": "[encoded data removed]",
      "text/plain": [
       "<Figure size 432x288 with 1 Axes>"
      ]
     },
     "metadata": {
      "needs_background": "light"
     },
     "output_type": "display_data"
    },
    {
     "name": "stdout",
     "output_type": "stream",
     "text": [
      "education: \n"
     ]
    },
    {
     "data": {
      "image/png": "[encoded data removed]",
      "text/plain": [
       "<Figure size 432x288 with 1 Axes>"
      ]
     },
     "metadata": {
      "needs_background": "light"
     },
     "output_type": "display_data"
    },
    {
     "name": "stdout",
     "output_type": "stream",
     "text": [
      "balance: \n"
     ]
    },
    {
     "data": {
      "image/png": "[encoded data removed]",
      "text/plain": [
       "<Figure size 432x288 with 1 Axes>"
      ]
     },
     "metadata": {
      "needs_background": "light"
     },
     "output_type": "display_data"
    },
    {
     "name": "stdout",
     "output_type": "stream",
     "text": [
      "housing: \n"
     ]
    },
    {
     "data": {
      "image/png": "[encoded data removed]",
      "text/plain": [
       "<Figure size 432x288 with 1 Axes>"
      ]
     },
     "metadata": {
      "needs_background": "light"
     },
     "output_type": "display_data"
    },
    {
     "name": "stdout",
     "output_type": "stream",
     "text": [
      "loan: \n"
     ]
    },
    {
     "data": {
      "image/png": "[encoded data removed]",
      "text/plain": [
       "<Figure size 432x288 with 1 Axes>"
      ]
     },
     "metadata": {
      "needs_background": "light"
     },
     "output_type": "display_data"
    },
    {
     "name": "stdout",
     "output_type": "stream",
     "text": [
      "duration: \n"
     ]
    },
    {
     "data": {
      "image/png": "[encoded data removed]",
      "text/plain": [
       "<Figure size 432x288 with 1 Axes>"
      ]
     },
     "metadata": {
      "needs_background": "light"
     },
     "output_type": "display_data"
    },
    {
     "name": "stdout",
     "output_type": "stream",
     "text": [
      "campaign: \n"
     ]
    },
    {
     "data": {
      "image/png": "[encoded data removed]",
      "text/plain": [
       "<Figure size 432x288 with 1 Axes>"
      ]
     },
     "metadata": {
      "needs_background": "light"
     },
     "output_type": "display_data"
    },
    {
     "name": "stdout",
     "output_type": "stream",
     "text": [
      "pdays: \n"
     ]
    },
    {
     "data": {
      "image/png": "[encoded data removed]",
      "text/plain": [
       "<Figure size 432x288 with 1 Axes>"
      ]
     },
     "metadata": {
      "needs_background": "light"
     },
     "output_type": "display_data"
    },
    {
     "name": "stdout",
     "output_type": "stream",
     "text": [
      "poutcome: \n"
     ]
    },
    {
     "data": {
      "image/png": "[encoded data removed]",
      "text/plain": [
       "<Figure size 432x288 with 1 Axes>"
      ]
     },
     "metadata": {
      "needs_background": "light"
     },
     "output_type": "display_data"
    },
    {
     "name": "stdout",
     "output_type": "stream",
     "text": [
      "y: \n"
     ]
    },
    {
     "data": {
      "image/png": "[encoded data removed]",
      "text/plain": [
       "<Figure size 432x288 with 1 Axes>"
      ]
     },
     "metadata": {
      "needs_background": "light"
     },
     "output_type": "display_data"
    }
   ],
   "source": [
    "plt.hist(my_file[\"age\"])\n",
    "print(\"age: \")\n",
    "plt.show()\n",
    "\n",
    "plt.hist(my_file[\"job\"])\n",
    "print(\"job: \")\n",
    "plt.show()\n",
    "\n",
    "plt.hist(my_file[\"marital\"])\n",
    "print(\"marital: \")\n",
    "plt.show()\n",
    "\n",
    "plt.hist(my_file[\"education\"])\n",
    "print(\"education: \")\n",
    "plt.show()\n",
    "\n",
    "plt.hist(my_file[\"balance\"])\n",
    "print(\"balance: \")\n",
    "plt.show()\n",
    "\n",
    "plt.hist(my_file[\"housing\"])\n",
    "print(\"housing: \")\n",
    "plt.show()\n",
    "\n",
    "plt.hist(my_file[\"loan\"])\n",
    "print(\"loan: \")\n",
    "plt.show()\n",
    "\n",
    "plt.hist(my_file[\"duration\"])\n",
    "print(\"duration: \")\n",
    "plt.show()\n",
    "\n",
    "plt.hist(my_file[\"campaign\"])\n",
    "print(\"campaign: \")\n",
    "plt.show()\n",
    "\n",
    "plt.hist(my_file[\"pdays\"])\n",
    "print(\"pdays: \")\n",
    "plt.show()\n",
    "\n",
    "plt.hist(my_file[\"poutcome\"])\n",
    "print(\"poutcome: \")\n",
    "plt.show()\n",
    "\n",
    "plt.hist(my_file[\"y\"])\n",
    "print(\"y: \")\n",
    "plt.show()"
   ]
  },
  {
   "cell_type": "code",
   "execution_count": 16,
   "metadata": {},
   "outputs": [
    {
     "data": {
      "text/html": [
       "<div>\n",
       "<style scoped>\n",
       "    .dataframe tbody tr th:only-of-type {\n",
       "        vertical-align: middle;\n",
       "    }\n",
       "\n",
       "    .dataframe tbody tr th {\n",
       "        vertical-align: top;\n",
       "    }\n",
       "\n",
       "    .dataframe thead th {\n",
       "        text-align: right;\n",
       "    }\n",
       "</style>\n",
       "<table border=\"1\" class=\"dataframe\">\n",
       "  <thead>\n",
       "    <tr style=\"text-align: right;\">\n",
       "      <th></th>\n",
       "      <th>age</th>\n",
       "      <th>balance</th>\n",
       "      <th>duration</th>\n",
       "      <th>campaign</th>\n",
       "      <th>pdays</th>\n",
       "    </tr>\n",
       "  </thead>\n",
       "  <tbody>\n",
       "    <tr>\n",
       "      <td>0</td>\n",
       "      <td>30.00000</td>\n",
       "      <td>1787.00000</td>\n",
       "      <td>79.00000</td>\n",
       "      <td>1</td>\n",
       "      <td>-1</td>\n",
       "    </tr>\n",
       "    <tr>\n",
       "      <td>1</td>\n",
       "      <td>33.00000</td>\n",
       "      <td>4789.00000</td>\n",
       "      <td>264.72402</td>\n",
       "      <td>1</td>\n",
       "      <td>339</td>\n",
       "    </tr>\n",
       "    <tr>\n",
       "      <td>2</td>\n",
       "      <td>41.61747</td>\n",
       "      <td>135.00000</td>\n",
       "      <td>185.00000</td>\n",
       "      <td>1</td>\n",
       "      <td>330</td>\n",
       "    </tr>\n",
       "    <tr>\n",
       "      <td>3</td>\n",
       "      <td>30.00000</td>\n",
       "      <td>1476.00000</td>\n",
       "      <td>199.00000</td>\n",
       "      <td>4</td>\n",
       "      <td>-1</td>\n",
       "    </tr>\n",
       "    <tr>\n",
       "      <td>4</td>\n",
       "      <td>59.00000</td>\n",
       "      <td>1136.75024</td>\n",
       "      <td>226.00000</td>\n",
       "      <td>1</td>\n",
       "      <td>-1</td>\n",
       "    </tr>\n",
       "    <tr>\n",
       "      <td>...</td>\n",
       "      <td>...</td>\n",
       "      <td>...</td>\n",
       "      <td>...</td>\n",
       "      <td>...</td>\n",
       "      <td>...</td>\n",
       "    </tr>\n",
       "    <tr>\n",
       "      <td>4516</td>\n",
       "      <td>33.00000</td>\n",
       "      <td>-333.00000</td>\n",
       "      <td>329.00000</td>\n",
       "      <td>5</td>\n",
       "      <td>-1</td>\n",
       "    </tr>\n",
       "    <tr>\n",
       "      <td>4517</td>\n",
       "      <td>57.00000</td>\n",
       "      <td>-3313.00000</td>\n",
       "      <td>153.00000</td>\n",
       "      <td>1</td>\n",
       "      <td>-1</td>\n",
       "    </tr>\n",
       "    <tr>\n",
       "      <td>4518</td>\n",
       "      <td>57.00000</td>\n",
       "      <td>295.00000</td>\n",
       "      <td>151.00000</td>\n",
       "      <td>11</td>\n",
       "      <td>-1</td>\n",
       "    </tr>\n",
       "    <tr>\n",
       "      <td>4519</td>\n",
       "      <td>28.00000</td>\n",
       "      <td>1137.00000</td>\n",
       "      <td>129.00000</td>\n",
       "      <td>4</td>\n",
       "      <td>211</td>\n",
       "    </tr>\n",
       "    <tr>\n",
       "      <td>4520</td>\n",
       "      <td>44.00000</td>\n",
       "      <td>1136.00000</td>\n",
       "      <td>345.00000</td>\n",
       "      <td>2</td>\n",
       "      <td>249</td>\n",
       "    </tr>\n",
       "  </tbody>\n",
       "</table>\n",
       "<p>4087 rows × 5 columns</p>\n",
       "</div>"
      ],
      "text/plain": [
       "           age     balance   duration  campaign  pdays\n",
       "0     30.00000  1787.00000   79.00000         1     -1\n",
       "1     33.00000  4789.00000  264.72402         1    339\n",
       "2     41.61747   135.00000  185.00000         1    330\n",
       "3     30.00000  1476.00000  199.00000         4     -1\n",
       "4     59.00000  1136.75024  226.00000         1     -1\n",
       "...        ...         ...        ...       ...    ...\n",
       "4516  33.00000  -333.00000  329.00000         5     -1\n",
       "4517  57.00000 -3313.00000  153.00000         1     -1\n",
       "4518  57.00000   295.00000  151.00000        11     -1\n",
       "4519  28.00000  1137.00000  129.00000         4    211\n",
       "4520  44.00000  1136.00000  345.00000         2    249\n",
       "\n",
       "[4087 rows x 5 columns]"
      ]
     },
     "execution_count": 16,
     "metadata": {},
     "output_type": "execute_result"
    }
   ],
   "source": [
    "#dropping categorical columns : job, marital, education, housing, loan, poutcome, y\n",
    "my_file_numerical = my_file.copy(deep=True)\n",
    "my_file_numerical.drop(\"job\",inplace=True,axis=1)\n",
    "my_file_numerical.drop(\"marital\",inplace=True,axis=1)\n",
    "my_file_numerical.drop(\"education\",inplace=True,axis=1)\n",
    "my_file_numerical.drop(\"housing\",inplace=True,axis=1)\n",
    "my_file_numerical.drop(\"loan\",inplace=True,axis=1)\n",
    "my_file_numerical.drop(\"poutcome\",inplace=True,axis=1)\n",
    "not_NaN_y_column = my_file_numerical[\"y\"]\n",
    "my_file_numerical.drop(\"y\",inplace=True,axis=1)\n",
    "my_file_numerical"
   ]
  },
  {
   "cell_type": "markdown",
   "metadata": {},
   "source": [
    "## Question 9"
   ]
  },
  {
   "cell_type": "code",
   "execution_count": 17,
   "metadata": {},
   "outputs": [
    {
     "data": {
      "text/html": [
       "<div>\n",
       "<style scoped>\n",
       "    .dataframe tbody tr th:only-of-type {\n",
       "        vertical-align: middle;\n",
       "    }\n",
       "\n",
       "    .dataframe tbody tr th {\n",
       "        vertical-align: top;\n",
       "    }\n",
       "\n",
       "    .dataframe thead th {\n",
       "        text-align: right;\n",
       "    }\n",
       "</style>\n",
       "<table border=\"1\" class=\"dataframe\">\n",
       "  <thead>\n",
       "    <tr style=\"text-align: right;\">\n",
       "      <th></th>\n",
       "      <th>age</th>\n",
       "      <th>balance</th>\n",
       "      <th>duration</th>\n",
       "      <th>campaign</th>\n",
       "      <th>pdays</th>\n",
       "    </tr>\n",
       "  </thead>\n",
       "  <tbody>\n",
       "    <tr>\n",
       "      <td>0</td>\n",
       "      <td>-1.154366</td>\n",
       "      <td>0.255388</td>\n",
       "      <td>-0.724620</td>\n",
       "      <td>-0.573012</td>\n",
       "      <td>-0.404051</td>\n",
       "    </tr>\n",
       "    <tr>\n",
       "      <td>1</td>\n",
       "      <td>-0.856422</td>\n",
       "      <td>1.406374</td>\n",
       "      <td>-0.005131</td>\n",
       "      <td>-0.573012</td>\n",
       "      <td>3.031432</td>\n",
       "    </tr>\n",
       "    <tr>\n",
       "      <td>2</td>\n",
       "      <td>-0.000582</td>\n",
       "      <td>-0.378000</td>\n",
       "      <td>-0.313979</td>\n",
       "      <td>-0.573012</td>\n",
       "      <td>2.940492</td>\n",
       "    </tr>\n",
       "    <tr>\n",
       "      <td>3</td>\n",
       "      <td>-1.154366</td>\n",
       "      <td>0.136148</td>\n",
       "      <td>-0.259744</td>\n",
       "      <td>0.380660</td>\n",
       "      <td>-0.404051</td>\n",
       "    </tr>\n",
       "    <tr>\n",
       "      <td>4</td>\n",
       "      <td>1.725758</td>\n",
       "      <td>0.006078</td>\n",
       "      <td>-0.155147</td>\n",
       "      <td>-0.573012</td>\n",
       "      <td>-0.404051</td>\n",
       "    </tr>\n",
       "    <tr>\n",
       "      <td>...</td>\n",
       "      <td>...</td>\n",
       "      <td>...</td>\n",
       "      <td>...</td>\n",
       "      <td>...</td>\n",
       "      <td>...</td>\n",
       "    </tr>\n",
       "    <tr>\n",
       "      <td>4516</td>\n",
       "      <td>-0.856422</td>\n",
       "      <td>-0.557434</td>\n",
       "      <td>0.243872</td>\n",
       "      <td>0.698550</td>\n",
       "      <td>-0.404051</td>\n",
       "    </tr>\n",
       "    <tr>\n",
       "      <td>4517</td>\n",
       "      <td>1.527129</td>\n",
       "      <td>-1.699986</td>\n",
       "      <td>-0.437946</td>\n",
       "      <td>-0.573012</td>\n",
       "      <td>-0.404051</td>\n",
       "    </tr>\n",
       "    <tr>\n",
       "      <td>4518</td>\n",
       "      <td>1.527129</td>\n",
       "      <td>-0.316655</td>\n",
       "      <td>-0.445694</td>\n",
       "      <td>2.605894</td>\n",
       "      <td>-0.404051</td>\n",
       "    </tr>\n",
       "    <tr>\n",
       "      <td>4519</td>\n",
       "      <td>-1.352996</td>\n",
       "      <td>0.006173</td>\n",
       "      <td>-0.530922</td>\n",
       "      <td>0.380660</td>\n",
       "      <td>1.738074</td>\n",
       "    </tr>\n",
       "    <tr>\n",
       "      <td>4520</td>\n",
       "      <td>0.236039</td>\n",
       "      <td>0.005790</td>\n",
       "      <td>0.305856</td>\n",
       "      <td>-0.255121</td>\n",
       "      <td>2.122039</td>\n",
       "    </tr>\n",
       "  </tbody>\n",
       "</table>\n",
       "<p>4087 rows × 5 columns</p>\n",
       "</div>"
      ],
      "text/plain": [
       "           age   balance  duration  campaign     pdays\n",
       "0    -1.154366  0.255388 -0.724620 -0.573012 -0.404051\n",
       "1    -0.856422  1.406374 -0.005131 -0.573012  3.031432\n",
       "2    -0.000582 -0.378000 -0.313979 -0.573012  2.940492\n",
       "3    -1.154366  0.136148 -0.259744  0.380660 -0.404051\n",
       "4     1.725758  0.006078 -0.155147 -0.573012 -0.404051\n",
       "...        ...       ...       ...       ...       ...\n",
       "4516 -0.856422 -0.557434  0.243872  0.698550 -0.404051\n",
       "4517  1.527129 -1.699986 -0.437946 -0.573012 -0.404051\n",
       "4518  1.527129 -0.316655 -0.445694  2.605894 -0.404051\n",
       "4519 -1.352996  0.006173 -0.530922  0.380660  1.738074\n",
       "4520  0.236039  0.005790  0.305856 -0.255121  2.122039\n",
       "\n",
       "[4087 rows x 5 columns]"
      ]
     },
     "execution_count": 17,
     "metadata": {},
     "output_type": "execute_result"
    }
   ],
   "source": [
    "normalized_file = (my_file_numerical-my_file_numerical.mean())/my_file_numerical.std()\n",
    "normalized_file"
   ]
  },
  {
   "cell_type": "markdown",
   "metadata": {},
   "source": [
    "## Question 10"
   ]
  },
  {
   "cell_type": "code",
   "execution_count": 18,
   "metadata": {},
   "outputs": [
    {
     "data": {
      "image/png": "[encoded data removed]",
      "text/plain": [
       "<Figure size 432x288 with 1 Axes>"
      ]
     },
     "metadata": {
      "needs_background": "light"
     },
     "output_type": "display_data"
    },
    {
     "data": {
      "image/png": "[encoded data removed]",
      "text/plain": [
       "<Figure size 432x288 with 1 Axes>"
      ]
     },
     "metadata": {
      "needs_background": "light"
     },
     "output_type": "display_data"
    },
    {
     "data": {
      "image/png": "[encoded data removed]",
      "text/plain": [
       "<Figure size 432x288 with 1 Axes>"
      ]
     },
     "metadata": {
      "needs_background": "light"
     },
     "output_type": "display_data"
    },
    {
     "data": {
      "image/png": "[encoded data removed]",
      "text/plain": [
       "<Figure size 432x288 with 1 Axes>"
      ]
     },
     "metadata": {
      "needs_background": "light"
     },
     "output_type": "display_data"
    },
    {
     "data": {
      "image/png": "[encoded data removed]",
      "text/plain": [
       "<Figure size 432x288 with 1 Axes>"
      ]
     },
     "metadata": {
      "needs_background": "light"
     },
     "output_type": "display_data"
    }
   ],
   "source": [
    "#Finding Mean and Standard deviation for not_NaN_y_Column\n",
    "y_yes_mean = normalized_file[my_file[\"y\"] == 1].mean()\n",
    "y_yes_std = normalized_file[my_file[\"y\"] == 1].std()\n",
    "\n",
    "y_no_mean = normalized_file[my_file[\"y\"] == 2].mean()\n",
    "y_no_std = normalized_file[my_file[\"y\"] == 2].std()\n",
    "\n",
    "def plot_func(column_name):\n",
    "    x = normalized_file[column_name]\n",
    "    y_yes = norm.pdf(x,y_yes_mean[column_name],y_yes_std[column_name])\n",
    "    y_no = norm.pdf(x,y_no_mean[column_name],y_no_std[column_name])\n",
    "    plt.plot(x,y_yes,'.')\n",
    "    plt.plot(x,y_no,'.')\n",
    "    plt.title(column_name)\n",
    "    plt.legend([\"Yes\",\"No\"])\n",
    "    plt.show()\n",
    "    \n",
    "plot_func(\"age\")\n",
    "plot_func(\"balance\")\n",
    "plot_func(\"duration\")\n",
    "plot_func(\"campaign\")\n",
    "plot_func(\"pdays\")"
   ]
  },
  {
   "cell_type": "markdown",
   "metadata": {},
   "source": [
    "It seems that duration feature is the best for prediction beacause other features are all close in two states but two states in duration are seperate enough. So we are gonna use duration."
   ]
  },
  {
   "cell_type": "markdown",
   "metadata": {},
   "source": [
    "In these figures, x axis is sorted value of eatch feature and y axis is PDF."
   ]
  },
  {
   "cell_type": "markdown",
   "metadata": {},
   "source": [
    "## Question 11"
   ]
  },
  {
   "cell_type": "code",
   "execution_count": 22,
   "metadata": {},
   "outputs": [
    {
     "name": "stdout",
     "output_type": "stream",
     "text": [
      "0.6006530167045605\n"
     ]
    }
   ],
   "source": [
    "x = normalized_file[\"duration\"]\n",
    "y_yes = norm.pdf(x,y_yes_mean[\"duration\"],y_yes_std[\"duration\"])\n",
    "y_no = norm.pdf(x,y_no_mean[\"duration\"],y_no_std[\"duration\"])\n",
    "diff = np.abs(y_no - y_yes)\n",
    "collision = np.abs(min(x[np.where(diff<0.001)[0]]))\n",
    "print(collision)"
   ]
  },
  {
   "cell_type": "code",
   "execution_count": 20,
   "metadata": {},
   "outputs": [],
   "source": [
    "normalized_new_df = (new_df-new_df.mean())/new_df.std()\n",
    "normalized_new_df[\"y\"][normalized_new_df[\"duration\"]>collision] = 1\n",
    "normalized_new_df[\"y\"][normalized_new_df[\"duration\"]<collision] = 2"
   ]
  },
  {
   "cell_type": "code",
   "execution_count": 21,
   "metadata": {},
   "outputs": [],
   "source": [
    "normalized_new_df.to_csv('D:\\\\term8\\\\AI\\\\CA0\\\\result.csv')"
   ]
  }
 ],
 "metadata": {
  "kernelspec": {
   "display_name": "Python 3",
   "language": "python",
   "name": "python3"
  },
  "language_info": {
   "codemirror_mode": {
    "name": "ipython",
    "version": 3
   },
   "file_extension": ".py",
   "mimetype": "text/x-python",
   "name": "python",
   "nbconvert_exporter": "python",
   "pygments_lexer": "ipython3",
   "version": "3.7.4"
  }
 },
 "nbformat": 4,
 "nbformat_minor": 2
}
